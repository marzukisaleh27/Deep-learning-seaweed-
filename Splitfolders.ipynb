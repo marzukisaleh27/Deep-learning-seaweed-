{
 "cells": [
  {
   "cell_type": "code",
   "execution_count": 1,
   "id": "833902ac",
   "metadata": {},
   "outputs": [],
   "source": [
    "import os\n",
    "import splitfolders"
   ]
  },
  {
   "cell_type": "code",
   "execution_count": 2,
   "id": "03bb756b",
   "metadata": {},
   "outputs": [],
   "source": [
    "#make sure your folder image and mask combined in one folder\n",
    "path = \"E:\\\\Tesis MPJ\\\\SAM\\\\Dataset_harmonized\\\\\""
   ]
  },
  {
   "cell_type": "code",
   "execution_count": 3,
   "id": "2b4d65d3",
   "metadata": {},
   "outputs": [],
   "source": [
    "#output in different folder\n",
    "output_image = dir_names = \"E:\\\\Tesis MPJ\\\\SAM\\\\Dataset_harmonized\\\\Split_data\""
   ]
  },
  {
   "cell_type": "code",
   "execution_count": 4,
   "id": "56e0a97c",
   "metadata": {},
   "outputs": [],
   "source": [
    "# Define the split ratios (train, validation, test)\n",
    "split_ratios = (0.8, 0.2)"
   ]
  },
  {
   "cell_type": "code",
   "execution_count": 5,
   "id": "77a40f6f",
   "metadata": {},
   "outputs": [
    {
     "name": "stderr",
     "output_type": "stream",
     "text": [
      "Copying files: 9315 files [00:24, 382.28 files/s]\n"
     ]
    }
   ],
   "source": [
    "# Use splitfolders to perform the split\n",
    "splitfolders.ratio(path, output=output_image, seed=42, ratio=split_ratios, group_prefix=None)"
   ]
  },
  {
   "cell_type": "code",
   "execution_count": null,
   "id": "4ef24ba7",
   "metadata": {},
   "outputs": [],
   "source": []
  }
 ],
 "metadata": {
  "kernelspec": {
   "display_name": "Python 3 (ipykernel)",
   "language": "python",
   "name": "python3"
  },
  "language_info": {
   "codemirror_mode": {
    "name": "ipython",
    "version": 3
   },
   "file_extension": ".py",
   "mimetype": "text/x-python",
   "name": "python",
   "nbconvert_exporter": "python",
   "pygments_lexer": "ipython3",
   "version": "3.10.11"
  }
 },
 "nbformat": 4,
 "nbformat_minor": 5
}
