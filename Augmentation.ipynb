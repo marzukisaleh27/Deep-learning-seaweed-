{
 "cells": [
  {
   "cell_type": "code",
   "execution_count": 1,
   "id": "e13880c9",
   "metadata": {},
   "outputs": [],
   "source": [
    "import os\n",
    "import cv2\n",
    "from tqdm import tqdm\n",
    "from glob import glob\n",
    "from albumentations import CenterCrop, RandomRotate90, RandomSizedCrop, HorizontalFlip, VerticalFlip, Sharpen\n",
    "import rasterio\n",
    "from rasterio.plot import reshape_as_image, reshape_as_raster\n",
    "import imageio\n",
    "from osgeo import gdal\n",
    "import numpy as np"
   ]
  },
  {
   "cell_type": "code",
   "execution_count": 2,
   "id": "1ee3e26d",
   "metadata": {},
   "outputs": [],
   "source": [
    "def load_data(path):\n",
    "     images = sorted(glob(os.path.join(path, \"Image/*\")))     \n",
    "     masks = sorted(glob(os.path.join(path, \"Mask/*\")))\n",
    "     return images, masks"
   ]
  },
  {
   "cell_type": "code",
   "execution_count": 3,
   "id": "ee7ca3d4",
   "metadata": {},
   "outputs": [],
   "source": [
    "def create_dir(path):\n",
    "    if not os.path.exists(path):\n",
    "        os.makedirs(path)"
   ]
  },
  {
   "cell_type": "code",
   "execution_count": 4,
   "id": "c6fe5a69",
   "metadata": {},
   "outputs": [],
   "source": [
    "def augment_data(images, masks, save_path, augment=True):\n",
    "    H = 64\n",
    "    W = 64\n",
    "\n",
    "    for x, y in tqdm(zip(images, masks), total=len(images)):\n",
    "        name = x.split(\"/\")[-1].split(\".\")\n",
    "        \"\"\" Extracting the name and extension of the image and the mask. \"\"\"\n",
    "        image_name = name[0]\n",
    "        image_extn = name[1]\n",
    "\n",
    "        name = y.split(\"/\")[-1].split(\".\")\n",
    "        mask_name = name[0]\n",
    "        mask_extn = name[1]\n",
    "\n",
    "        \"\"\" Reading image and mask. \"\"\"\n",
    "        x = rasterio.open(x)\n",
    "        y = rasterio.open(y)\n",
    "        \n",
    "        #reading image as array using rasterio        \n",
    "        x_array = x.read()\n",
    "        y_array = y.read()\n",
    "        \n",
    "        \"\"\"\n",
    "        because the order of the dimension raster was defined bands, rows, columns. \n",
    "        we have to reshape to rows, columns, bands\n",
    "        \"\"\"\n",
    "        x_image = reshape_as_image(x_array)\n",
    "        y_image = reshape_as_image(y_array)\n",
    "\n",
    "        \"\"\" Augmentation \"\"\"\n",
    "        if augment == True:\n",
    "            aug = CenterCrop(H, W, p=1.0)\n",
    "            augmented = aug(image=x_image, mask=y_image)\n",
    "            x1 = augmented[\"image\"]\n",
    "            y1 = augmented[\"mask\"]\n",
    "\n",
    "            aug = RandomRotate90(p=1.0)\n",
    "            augmented = aug(image=x_image, mask=y_image)\n",
    "            x2 = augmented['image']\n",
    "            y2 = augmented['mask']\n",
    "\n",
    "            aug = RandomSizedCrop(min_max_height=(50, 101), height=H, width=W, p=1.0)\n",
    "            augmented = aug(image=x_image, mask=y_image)\n",
    "            x3 = augmented['image']\n",
    "            y3 = augmented['mask']\n",
    "\n",
    "            aug = HorizontalFlip(p=1.0)\n",
    "            augmented = aug(image=x_image, mask=y_image)\n",
    "            x4 = augmented['image']\n",
    "            y4 = augmented['mask']\n",
    " \n",
    "            aug = VerticalFlip(p=1.0)\n",
    "            augmented = aug(image=x_image, mask=y_image)\n",
    "            x5 = augmented['image']\n",
    "            y5 = augmented['mask']\n",
    "\n",
    "            aug = Sharpen(p=1.0)\n",
    "            augmented = aug(image=x_image, mask=y_image)\n",
    "            x6 = augmented['image']\n",
    "            y6 = augmented['mask']\n",
    "\n",
    "         \n",
    "        ##add x and y if the original image not saved on the new folder\n",
    "            save_images = [x1, x2, x3, x4, x5, x6]\n",
    "            save_masks =  [y1, y2, y3, y4, y5, y6]\n",
    "            \n",
    "            #print('augmented shape: ',x1.shape)\n",
    "\n",
    "        else:\n",
    "            save_images = [x_image]\n",
    "            save_masks = [y_image]\n",
    "\n",
    "        \"\"\" Saving the image and mask. \"\"\"\n",
    "        idx = 0\n",
    "        for i, m in zip(save_images, save_masks):\n",
    "            \n",
    "            #we have to reshape back the image to raster\n",
    "            i = reshape_as_raster(i)\n",
    "            m = reshape_as_raster(m)\n",
    "\n",
    "            if len(images) == 1:\n",
    "                tmp_img_name = f\"{image_name}.{image_extn}\"\n",
    "                tmp_mask_name = f\"{mask_name}.{mask_extn}\"\n",
    "\n",
    "            else:\n",
    "                tmp_img_name = f\"{image_name}_{idx}.{image_extn}\"\n",
    "                tmp_mask_name = f\"{mask_name}_{idx}.{mask_extn}\"\n",
    "\n",
    "            image_path = os.path.join(save_path, \"images\", tmp_img_name)\n",
    "            mask_path = os.path.join(save_path, \"label\", tmp_mask_name)\n",
    "    \n",
    "            # Create a new raster dataset for the output image\n",
    "            profile = x.profile.copy()\n",
    "            profile['driver'] = 'GTiff'\n",
    "            profile['count'] = x_array.shape[0]  # Update the number of bands\n",
    "            profile['width'] = x_array.shape[1]  # Update the width\n",
    "            profile['height'] = x_array.shape[2]  # Update the height\n",
    "            \n",
    "            #saving image\n",
    "            with rasterio.open(image_path,'w',**profile) as saveimage:\n",
    "                saveimage.write(i)\n",
    "\n",
    "            # Create a new raster dataset for the output mask\n",
    "            profile_mask = y.profile.copy()\n",
    "            profile_mask['driver'] = 'GTiff'\n",
    "            profile_mask['count'] = y_array.shape[0]  # Update the number of bands\n",
    "            profile_mask['width'] = y_array.shape[1]  # Update the width\n",
    "            profile_mask['height'] = y_array.shape[2]  # Update the height\n",
    "            \n",
    "            #saving mask\n",
    "            with rasterio.open(mask_path,'w',**profile_mask) as savemask:\n",
    "                savemask.write(m)\n",
    "            \n",
    "            ###another image save###           \n",
    "            #cv2.imwritemulti(image_path, i)\n",
    "            #imageio.imwrite(image_path, [[0,1],[1,0]])\n",
    "            #cv2.imwritemulti(mask_path, m)\n",
    "            #imageio.imwrite(mask_path, [[0,1],[1,0]])\n",
    "\n",
    "            idx += 1"
   ]
  },
  {
   "cell_type": "code",
   "execution_count": 5,
   "id": "8d0f35be",
   "metadata": {},
   "outputs": [
    {
     "name": "stdout",
     "output_type": "stream",
     "text": [
      "Original Images: 405 - Original Masks: 405\n"
     ]
    }
   ],
   "source": [
    "path = \"E:\\\\Tesis MPJ\\\\SAM\\\\Dataset_harmonized\"\n",
    "images, masks = load_data(path)\n",
    "print(f\"Original Images: {len(images)} - Original Masks: {len(masks)}\")\n",
    "#print(images)"
   ]
  },
  {
   "cell_type": "code",
   "execution_count": 6,
   "id": "4b96eb37",
   "metadata": {},
   "outputs": [],
   "source": [
    "#create_dir(\"new_data/images3\")\n",
    "#create_dir(\"new_data/masks3\")"
   ]
  },
  {
   "cell_type": "code",
   "execution_count": 7,
   "id": "6c6e56ab",
   "metadata": {},
   "outputs": [],
   "source": [
    "save_path = \"new_data\""
   ]
  },
  {
   "cell_type": "code",
   "execution_count": 8,
   "id": "18d9c17c",
   "metadata": {},
   "outputs": [
    {
     "name": "stderr",
     "output_type": "stream",
     "text": [
      "100%|██████████| 405/405 [04:41<00:00,  1.44it/s]\n"
     ]
    }
   ],
   "source": [
    "augment_data(images, masks, save_path, augment=True)"
   ]
  },
  {
   "cell_type": "code",
   "execution_count": null,
   "id": "28c24a70",
   "metadata": {},
   "outputs": [],
   "source": []
  }
 ],
 "metadata": {
  "kernelspec": {
   "display_name": "Python 3 (ipykernel)",
   "language": "python",
   "name": "python3"
  },
  "language_info": {
   "codemirror_mode": {
    "name": "ipython",
    "version": 3
   },
   "file_extension": ".py",
   "mimetype": "text/x-python",
   "name": "python",
   "nbconvert_exporter": "python",
   "pygments_lexer": "ipython3",
   "version": "3.10.11"
  }
 },
 "nbformat": 4,
 "nbformat_minor": 5
}
